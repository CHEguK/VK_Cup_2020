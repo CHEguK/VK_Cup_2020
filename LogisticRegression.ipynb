{
 "cells": [
  {
   "cell_type": "code",
   "execution_count": 39,
   "metadata": {},
   "outputs": [],
   "source": [
    "def get_smoothed_log_mape_column_value(responses_column, answers_column, epsilon):\n",
    "    return np.abs(np.log(\n",
    "        (responses_column + epsilon)\n",
    "        / (answers_column + epsilon)\n",
    "    )).mean()\n",
    "\n",
    "\n",
    "def get_smoothed_mean_log_accuracy_ratio(answers, responses, epsilon=0.005):  # answers - правильные ответы\n",
    "    log_accuracy_ratio_mean = np.array(\n",
    "        [\n",
    "            get_smoothed_log_mape_column_value(responses.at_least_one, answers.at_least_one, epsilon),\n",
    "            get_smoothed_log_mape_column_value(responses.at_least_two, answers.at_least_two, epsilon),\n",
    "            get_smoothed_log_mape_column_value(responses.at_least_three, answers.at_least_three, epsilon),\n",
    "        ]\n",
    "    ).mean()\n",
    "\n",
    "    percentage_error = 100 * (np.exp(log_accuracy_ratio_mean) - 1)\n",
    "\n",
    "    return percentage_error.round(\n",
    "        decimals=2\n",
    "    )"
   ]
  },
  {
   "cell_type": "code",
   "execution_count": 1,
   "metadata": {},
   "outputs": [],
   "source": [
    "import pandas as pd\n",
    "import numpy as np"
   ]
  },
  {
   "cell_type": "code",
   "execution_count": 2,
   "metadata": {},
   "outputs": [],
   "source": [
    "DF = \"Data/top_validate.tsv\"\n",
    "VALIDATE_ANSWERS = \"Data/validate_answers.tsv\""
   ]
  },
  {
   "cell_type": "code",
   "execution_count": 3,
   "metadata": {},
   "outputs": [],
   "source": [
    "Y = pd.read_csv(VALIDATE_ANSWERS, sep='\\t')"
   ]
  },
  {
   "cell_type": "code",
   "execution_count": 4,
   "metadata": {},
   "outputs": [
    {
     "data": {
      "text/html": [
       "<div>\n",
       "<style scoped>\n",
       "    .dataframe tbody tr th:only-of-type {\n",
       "        vertical-align: middle;\n",
       "    }\n",
       "\n",
       "    .dataframe tbody tr th {\n",
       "        vertical-align: top;\n",
       "    }\n",
       "\n",
       "    .dataframe thead th {\n",
       "        text-align: right;\n",
       "    }\n",
       "</style>\n",
       "<table border=\"1\" class=\"dataframe\">\n",
       "  <thead>\n",
       "    <tr style=\"text-align: right;\">\n",
       "      <th></th>\n",
       "      <th>at_least_one</th>\n",
       "      <th>at_least_two</th>\n",
       "      <th>at_least_three</th>\n",
       "    </tr>\n",
       "  </thead>\n",
       "  <tbody>\n",
       "    <tr>\n",
       "      <th>0</th>\n",
       "      <td>0.0430</td>\n",
       "      <td>0.0152</td>\n",
       "      <td>0.0073</td>\n",
       "    </tr>\n",
       "    <tr>\n",
       "      <th>1</th>\n",
       "      <td>0.0130</td>\n",
       "      <td>0.0000</td>\n",
       "      <td>0.0000</td>\n",
       "    </tr>\n",
       "    <tr>\n",
       "      <th>2</th>\n",
       "      <td>0.0878</td>\n",
       "      <td>0.0135</td>\n",
       "      <td>0.0000</td>\n",
       "    </tr>\n",
       "    <tr>\n",
       "      <th>3</th>\n",
       "      <td>0.2295</td>\n",
       "      <td>0.1295</td>\n",
       "      <td>0.0727</td>\n",
       "    </tr>\n",
       "    <tr>\n",
       "      <th>4</th>\n",
       "      <td>0.3963</td>\n",
       "      <td>0.2785</td>\n",
       "      <td>0.2270</td>\n",
       "    </tr>\n",
       "  </tbody>\n",
       "</table>\n",
       "</div>"
      ],
      "text/plain": [
       "   at_least_one  at_least_two  at_least_three\n",
       "0        0.0430        0.0152          0.0073\n",
       "1        0.0130        0.0000          0.0000\n",
       "2        0.0878        0.0135          0.0000\n",
       "3        0.2295        0.1295          0.0727\n",
       "4        0.3963        0.2785          0.2270"
      ]
     },
     "execution_count": 4,
     "metadata": {},
     "output_type": "execute_result"
    }
   ],
   "source": [
    "Y.head()"
   ]
  },
  {
   "cell_type": "code",
   "execution_count": 15,
   "metadata": {},
   "outputs": [],
   "source": [
    "Y_1 = Y['at_least_one'].copy()\n",
    "Y_2 = Y['at_least_two'].copy()\n",
    "Y_3 = Y['at_least_three'].copy()"
   ]
  },
  {
   "cell_type": "code",
   "execution_count": 16,
   "metadata": {},
   "outputs": [
    {
     "data": {
      "text/plain": [
       "0       0.0430\n",
       "1       0.0130\n",
       "2       0.0878\n",
       "3       0.2295\n",
       "4       0.3963\n",
       "         ...  \n",
       "1003    0.0679\n",
       "1004    0.0165\n",
       "1005    0.0071\n",
       "1006    0.3669\n",
       "1007    0.0710\n",
       "Name: at_least_one, Length: 1008, dtype: float64"
      ]
     },
     "execution_count": 16,
     "metadata": {},
     "output_type": "execute_result"
    }
   ],
   "source": [
    "Y_1"
   ]
  },
  {
   "cell_type": "code",
   "execution_count": 7,
   "metadata": {},
   "outputs": [
    {
     "data": {
      "text/html": [
       "<div>\n",
       "<style scoped>\n",
       "    .dataframe tbody tr th:only-of-type {\n",
       "        vertical-align: middle;\n",
       "    }\n",
       "\n",
       "    .dataframe tbody tr th {\n",
       "        vertical-align: top;\n",
       "    }\n",
       "\n",
       "    .dataframe thead th {\n",
       "        text-align: right;\n",
       "    }\n",
       "</style>\n",
       "<table border=\"1\" class=\"dataframe\">\n",
       "  <thead>\n",
       "    <tr style=\"text-align: right;\">\n",
       "      <th></th>\n",
       "      <th>cpm</th>\n",
       "      <th>hour_start</th>\n",
       "      <th>hour_end</th>\n",
       "      <th>audience_size</th>\n",
       "      <th>count_unique_cities</th>\n",
       "      <th>time_interval</th>\n",
       "      <th>number_of_sex1</th>\n",
       "      <th>number_of_sex2</th>\n",
       "      <th>number_of_age1</th>\n",
       "      <th>number_of_age2</th>\n",
       "      <th>...</th>\n",
       "      <th>publisher_12</th>\n",
       "      <th>publisher_13</th>\n",
       "      <th>publisher_14</th>\n",
       "      <th>publisher_15</th>\n",
       "      <th>publisher_16</th>\n",
       "      <th>publisher_17</th>\n",
       "      <th>publisher_18</th>\n",
       "      <th>publisher_19</th>\n",
       "      <th>publisher_20</th>\n",
       "      <th>publisher_21</th>\n",
       "    </tr>\n",
       "  </thead>\n",
       "  <tbody>\n",
       "    <tr>\n",
       "      <th>0</th>\n",
       "      <td>220.0</td>\n",
       "      <td>1058.0</td>\n",
       "      <td>1153.0</td>\n",
       "      <td>1906.0</td>\n",
       "      <td>7.0</td>\n",
       "      <td>95.0</td>\n",
       "      <td>1025.0</td>\n",
       "      <td>881.0</td>\n",
       "      <td>470.0</td>\n",
       "      <td>776.0</td>\n",
       "      <td>...</td>\n",
       "      <td>0.0</td>\n",
       "      <td>0.0</td>\n",
       "      <td>0.0</td>\n",
       "      <td>0.0</td>\n",
       "      <td>0.0</td>\n",
       "      <td>1.0</td>\n",
       "      <td>0.0</td>\n",
       "      <td>0.0</td>\n",
       "      <td>0.0</td>\n",
       "      <td>0.0</td>\n",
       "    </tr>\n",
       "    <tr>\n",
       "      <th>1</th>\n",
       "      <td>312.0</td>\n",
       "      <td>1295.0</td>\n",
       "      <td>1301.0</td>\n",
       "      <td>1380.0</td>\n",
       "      <td>372.0</td>\n",
       "      <td>6.0</td>\n",
       "      <td>735.0</td>\n",
       "      <td>645.0</td>\n",
       "      <td>428.0</td>\n",
       "      <td>508.0</td>\n",
       "      <td>...</td>\n",
       "      <td>0.0</td>\n",
       "      <td>0.0</td>\n",
       "      <td>0.0</td>\n",
       "      <td>0.0</td>\n",
       "      <td>0.0</td>\n",
       "      <td>0.0</td>\n",
       "      <td>1.0</td>\n",
       "      <td>0.0</td>\n",
       "      <td>0.0</td>\n",
       "      <td>0.0</td>\n",
       "    </tr>\n",
       "    <tr>\n",
       "      <th>2</th>\n",
       "      <td>70.0</td>\n",
       "      <td>1229.0</td>\n",
       "      <td>1249.0</td>\n",
       "      <td>888.0</td>\n",
       "      <td>280.0</td>\n",
       "      <td>20.0</td>\n",
       "      <td>473.0</td>\n",
       "      <td>415.0</td>\n",
       "      <td>234.0</td>\n",
       "      <td>330.0</td>\n",
       "      <td>...</td>\n",
       "      <td>0.0</td>\n",
       "      <td>0.0</td>\n",
       "      <td>0.0</td>\n",
       "      <td>1.0</td>\n",
       "      <td>0.0</td>\n",
       "      <td>0.0</td>\n",
       "      <td>0.0</td>\n",
       "      <td>0.0</td>\n",
       "      <td>0.0</td>\n",
       "      <td>1.0</td>\n",
       "    </tr>\n",
       "    <tr>\n",
       "      <th>3</th>\n",
       "      <td>240.0</td>\n",
       "      <td>1295.0</td>\n",
       "      <td>1377.0</td>\n",
       "      <td>440.0</td>\n",
       "      <td>7.0</td>\n",
       "      <td>82.0</td>\n",
       "      <td>240.0</td>\n",
       "      <td>200.0</td>\n",
       "      <td>119.0</td>\n",
       "      <td>187.0</td>\n",
       "      <td>...</td>\n",
       "      <td>0.0</td>\n",
       "      <td>0.0</td>\n",
       "      <td>1.0</td>\n",
       "      <td>0.0</td>\n",
       "      <td>0.0</td>\n",
       "      <td>0.0</td>\n",
       "      <td>0.0</td>\n",
       "      <td>0.0</td>\n",
       "      <td>0.0</td>\n",
       "      <td>0.0</td>\n",
       "    </tr>\n",
       "    <tr>\n",
       "      <th>4</th>\n",
       "      <td>262.0</td>\n",
       "      <td>752.0</td>\n",
       "      <td>990.0</td>\n",
       "      <td>1476.0</td>\n",
       "      <td>416.0</td>\n",
       "      <td>238.0</td>\n",
       "      <td>903.0</td>\n",
       "      <td>572.0</td>\n",
       "      <td>0.0</td>\n",
       "      <td>0.0</td>\n",
       "      <td>...</td>\n",
       "      <td>0.0</td>\n",
       "      <td>0.0</td>\n",
       "      <td>0.0</td>\n",
       "      <td>0.0</td>\n",
       "      <td>0.0</td>\n",
       "      <td>0.0</td>\n",
       "      <td>0.0</td>\n",
       "      <td>0.0</td>\n",
       "      <td>0.0</td>\n",
       "      <td>0.0</td>\n",
       "    </tr>\n",
       "  </tbody>\n",
       "</table>\n",
       "<p>5 rows × 38 columns</p>\n",
       "</div>"
      ],
      "text/plain": [
       "     cpm  hour_start  hour_end  audience_size  count_unique_cities  \\\n",
       "0  220.0      1058.0    1153.0         1906.0                  7.0   \n",
       "1  312.0      1295.0    1301.0         1380.0                372.0   \n",
       "2   70.0      1229.0    1249.0          888.0                280.0   \n",
       "3  240.0      1295.0    1377.0          440.0                  7.0   \n",
       "4  262.0       752.0     990.0         1476.0                416.0   \n",
       "\n",
       "   time_interval  number_of_sex1  number_of_sex2  number_of_age1  \\\n",
       "0           95.0          1025.0           881.0           470.0   \n",
       "1            6.0           735.0           645.0           428.0   \n",
       "2           20.0           473.0           415.0           234.0   \n",
       "3           82.0           240.0           200.0           119.0   \n",
       "4          238.0           903.0           572.0             0.0   \n",
       "\n",
       "   number_of_age2  ...  publisher_12  publisher_13  publisher_14  \\\n",
       "0           776.0  ...           0.0           0.0           0.0   \n",
       "1           508.0  ...           0.0           0.0           0.0   \n",
       "2           330.0  ...           0.0           0.0           0.0   \n",
       "3           187.0  ...           0.0           0.0           1.0   \n",
       "4             0.0  ...           0.0           0.0           0.0   \n",
       "\n",
       "   publisher_15  publisher_16  publisher_17  publisher_18  publisher_19  \\\n",
       "0           0.0           0.0           1.0           0.0           0.0   \n",
       "1           0.0           0.0           0.0           1.0           0.0   \n",
       "2           1.0           0.0           0.0           0.0           0.0   \n",
       "3           0.0           0.0           0.0           0.0           0.0   \n",
       "4           0.0           0.0           0.0           0.0           0.0   \n",
       "\n",
       "   publisher_20  publisher_21  \n",
       "0           0.0           0.0  \n",
       "1           0.0           0.0  \n",
       "2           0.0           1.0  \n",
       "3           0.0           0.0  \n",
       "4           0.0           0.0  \n",
       "\n",
       "[5 rows x 38 columns]"
      ]
     },
     "execution_count": 7,
     "metadata": {},
     "output_type": "execute_result"
    }
   ],
   "source": [
    "X = pd.read_csv(DF).astype('float32')\n",
    "X.head()"
   ]
  },
  {
   "cell_type": "code",
   "execution_count": 17,
   "metadata": {},
   "outputs": [
    {
     "data": {
      "text/plain": [
       "Index(['cpm', 'hour_start', 'hour_end', 'audience_size', 'count_unique_cities',\n",
       "       'time_interval', 'number_of_sex1', 'number_of_sex2', 'number_of_age1',\n",
       "       'number_of_age2', 'number_of_age3', 'number_of_age4', 'number_of_age5',\n",
       "       'number_of_age7', 'percentage_sex1', 'percentage_sex2',\n",
       "       'number_of_publishers', 'publisher_1', 'publisher_2', 'publisher_3',\n",
       "       'publisher_4', 'publisher_5', 'publisher_6', 'publisher_7',\n",
       "       'publisher_8', 'publisher_9', 'publisher_10', 'publisher_11',\n",
       "       'publisher_12', 'publisher_13', 'publisher_14', 'publisher_15',\n",
       "       'publisher_16', 'publisher_17', 'publisher_18', 'publisher_19',\n",
       "       'publisher_20', 'publisher_21'],\n",
       "      dtype='object')"
      ]
     },
     "execution_count": 17,
     "metadata": {},
     "output_type": "execute_result"
    }
   ],
   "source": [
    "X.columns"
   ]
  },
  {
   "cell_type": "code",
   "execution_count": 50,
   "metadata": {},
   "outputs": [],
   "source": [
    "X = X.drop(['hour_start', 'hour_end'], axis=1)"
   ]
  },
  {
   "cell_type": "code",
   "execution_count": 51,
   "metadata": {},
   "outputs": [],
   "source": [
    "x_lim=int(len(X)*0.80)\n",
    "\n",
    "X_train=X[0:x_lim].copy()\n",
    "Y_train_1=Y_1[0:x_lim]\n",
    "Y_train_2=Y_2[0:x_lim]\n",
    "Y_train_3=Y_3[0:x_lim]\n",
    "\n",
    "X_test=X[x_lim:].copy()\n",
    "Y_test_1=Y_1[x_lim:]\n",
    "Y_test_2=Y_2[x_lim:]\n",
    "Y_test_3=Y_3[x_lim:]"
   ]
  },
  {
   "cell_type": "code",
   "execution_count": 52,
   "metadata": {},
   "outputs": [
    {
     "data": {
      "text/plain": [
       "((806,), (202,))"
      ]
     },
     "execution_count": 52,
     "metadata": {},
     "output_type": "execute_result"
    }
   ],
   "source": [
    "Y_train_1.shape, Y_test_1.shape"
   ]
  },
  {
   "cell_type": "code",
   "execution_count": 53,
   "metadata": {},
   "outputs": [],
   "source": [
    "Y_test = pd.concat([Y_test_1, Y_test_2, Y_test_3], axis=1)\n",
    "Y_test = pd.DataFrame(np.array(Y_test), columns=['at_least_one', 'at_least_two', 'at_least_three']).astype('float32')"
   ]
  },
  {
   "cell_type": "code",
   "execution_count": 54,
   "metadata": {},
   "outputs": [
    {
     "data": {
      "text/html": [
       "<div>\n",
       "<style scoped>\n",
       "    .dataframe tbody tr th:only-of-type {\n",
       "        vertical-align: middle;\n",
       "    }\n",
       "\n",
       "    .dataframe tbody tr th {\n",
       "        vertical-align: top;\n",
       "    }\n",
       "\n",
       "    .dataframe thead th {\n",
       "        text-align: right;\n",
       "    }\n",
       "</style>\n",
       "<table border=\"1\" class=\"dataframe\">\n",
       "  <thead>\n",
       "    <tr style=\"text-align: right;\">\n",
       "      <th></th>\n",
       "      <th>at_least_one</th>\n",
       "      <th>at_least_two</th>\n",
       "      <th>at_least_three</th>\n",
       "    </tr>\n",
       "  </thead>\n",
       "  <tbody>\n",
       "    <tr>\n",
       "      <th>0</th>\n",
       "      <td>0.0163</td>\n",
       "      <td>0.0041</td>\n",
       "      <td>0.0014</td>\n",
       "    </tr>\n",
       "    <tr>\n",
       "      <th>1</th>\n",
       "      <td>0.0201</td>\n",
       "      <td>0.0000</td>\n",
       "      <td>0.0000</td>\n",
       "    </tr>\n",
       "    <tr>\n",
       "      <th>2</th>\n",
       "      <td>0.1761</td>\n",
       "      <td>0.0954</td>\n",
       "      <td>0.0578</td>\n",
       "    </tr>\n",
       "    <tr>\n",
       "      <th>3</th>\n",
       "      <td>0.0211</td>\n",
       "      <td>0.0105</td>\n",
       "      <td>0.0039</td>\n",
       "    </tr>\n",
       "    <tr>\n",
       "      <th>4</th>\n",
       "      <td>0.1165</td>\n",
       "      <td>0.0059</td>\n",
       "      <td>0.0000</td>\n",
       "    </tr>\n",
       "  </tbody>\n",
       "</table>\n",
       "</div>"
      ],
      "text/plain": [
       "   at_least_one  at_least_two  at_least_three\n",
       "0        0.0163        0.0041          0.0014\n",
       "1        0.0201        0.0000          0.0000\n",
       "2        0.1761        0.0954          0.0578\n",
       "3        0.0211        0.0105          0.0039\n",
       "4        0.1165        0.0059          0.0000"
      ]
     },
     "execution_count": 54,
     "metadata": {},
     "output_type": "execute_result"
    }
   ],
   "source": [
    "Y_test.head()"
   ]
  },
  {
   "cell_type": "code",
   "execution_count": 55,
   "metadata": {},
   "outputs": [
    {
     "name": "stdout",
     "output_type": "stream",
     "text": [
      "Минимум и максимум обучающего набора:  0.0 1.0000000000000002\n"
     ]
    },
    {
     "name": "stderr",
     "output_type": "stream",
     "text": [
      "c:\\users\\chegu\\appdata\\local\\programs\\python\\python37\\lib\\site-packages\\sklearn\\preprocessing\\data.py:323: DataConversionWarning: Data with input dtype float32 were all converted to float64 by MinMaxScaler.\n",
      "  return self.partial_fit(X, y)\n",
      "c:\\users\\chegu\\appdata\\local\\programs\\python\\python37\\lib\\site-packages\\sklearn\\preprocessing\\data.py:323: DataConversionWarning: Data with input dtype float32 were all converted to float64 by MinMaxScaler.\n",
      "  return self.partial_fit(X, y)\n"
     ]
    }
   ],
   "source": [
    "from sklearn.preprocessing import MinMaxScaler\n",
    "\n",
    "mms=MinMaxScaler()\n",
    "X_train_mms=mms.fit_transform(X_train)\n",
    "X_test_mms=mms.fit_transform(X_test)\n",
    "\n",
    "print('Минимум и максимум обучающего набора: ', X_train_mms.min(), X_train_mms.max())"
   ]
  },
  {
   "cell_type": "code",
   "execution_count": 56,
   "metadata": {},
   "outputs": [],
   "source": [
    "from sklearn.ensemble import RandomForestRegressor\n",
    "rf1 = RandomForestRegressor(n_estimators = 1000, random_state = 42)\n",
    "rf2 = RandomForestRegressor(n_estimators = 1000, random_state = 42)\n",
    "rf3 = RandomForestRegressor(n_estimators = 1000, random_state = 42)\n",
    "\n",
    "rf1.fit(X_train_mms, Y_train_1)\n",
    "predictions_1 = rf1.predict(X_test_mms)\n",
    "rf2.fit(X_train_mms, Y_train_2)\n",
    "predictions_2 = rf2.predict(X_test_mms)\n",
    "rf3.fit(X_train_mms, Y_train_3)\n",
    "predictions_3 = rf3.predict(X_test_mms)"
   ]
  },
  {
   "cell_type": "code",
   "execution_count": 57,
   "metadata": {},
   "outputs": [],
   "source": [
    "Y_pesponse = pd.DataFrame([predictions_1, predictions_2, predictions_3]).astype('float32').T\n",
    "Y_pesponse.columns=['at_least_one', 'at_least_two', 'at_least_three']"
   ]
  },
  {
   "cell_type": "code",
   "execution_count": 58,
   "metadata": {},
   "outputs": [
    {
     "data": {
      "text/plain": [
       "62.43"
      ]
     },
     "execution_count": 58,
     "metadata": {},
     "output_type": "execute_result"
    }
   ],
   "source": [
    "get_smoothed_mean_log_accuracy_ratio(Y_test, Y_pesponse)"
   ]
  },
  {
   "cell_type": "code",
   "execution_count": null,
   "metadata": {},
   "outputs": [],
   "source": []
  }
 ],
 "metadata": {
  "kernelspec": {
   "display_name": "Python 3",
   "language": "python",
   "name": "python3"
  },
  "language_info": {
   "codemirror_mode": {
    "name": "ipython",
    "version": 3
   },
   "file_extension": ".py",
   "mimetype": "text/x-python",
   "name": "python",
   "nbconvert_exporter": "python",
   "pygments_lexer": "ipython3",
   "version": "3.7.2"
  }
 },
 "nbformat": 4,
 "nbformat_minor": 2
}
